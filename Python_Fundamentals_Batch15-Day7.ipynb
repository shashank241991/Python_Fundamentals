{
 "cells": [
  {
   "cell_type": "code",
   "execution_count": 6,
   "metadata": {},
   "outputs": [],
   "source": [
    "#Introduction to looping statements"
   ]
  },
  {
   "cell_type": "code",
   "execution_count": null,
   "metadata": {},
   "outputs": [],
   "source": [
    "# FOR loop indroduction:"
   ]
  },
  {
   "cell_type": "code",
   "execution_count": 2,
   "metadata": {},
   "outputs": [],
   "source": [
    "students=['ashok','deeksha','naveen','himraja','kiran','saif','shravya']"
   ]
  },
  {
   "cell_type": "code",
   "execution_count": 4,
   "metadata": {},
   "outputs": [
    {
     "name": "stdout",
     "output_type": "stream",
     "text": [
      "['ashok', 'deeksha', 'naveen', 'himraja', 'kiran', 'saif', 'shravya']\n"
     ]
    }
   ],
   "source": [
    "print(students)"
   ]
  },
  {
   "cell_type": "code",
   "execution_count": 5,
   "metadata": {},
   "outputs": [
    {
     "name": "stdout",
     "output_type": "stream",
     "text": [
      "your are doing a good job,shravya\n"
     ]
    }
   ],
   "source": [
    "print(f\"your are doing a good job,{students[6]}\")"
   ]
  },
  {
   "cell_type": "code",
   "execution_count": 9,
   "metadata": {},
   "outputs": [
    {
     "name": "stdout",
     "output_type": "stream",
     "text": [
      "ashok\n",
      "deeksha\n",
      "naveen\n",
      "himraja\n",
      "kiran\n",
      "saif\n",
      "shravya\n"
     ]
    }
   ],
   "source": [
    "for student in students:\n",
    "    print(student)"
   ]
  },
  {
   "cell_type": "code",
   "execution_count": 16,
   "metadata": {},
   "outputs": [
    {
     "name": "stdout",
     "output_type": "stream",
     "text": [
      " your are doing a good job,ashok\n",
      " your are doing a good job,deeksha\n",
      " your are doing a good job,naveen\n",
      " your are doing a good job,himraja\n",
      " your are doing a good job,kiran\n",
      " your are doing a good job,saif\n",
      " your are doing a good job,shravya\n"
     ]
    }
   ],
   "source": [
    "for student in students:\n",
    "    print(f\" your are doing a good job,{student}\")"
   ]
  },
  {
   "cell_type": "code",
   "execution_count": 17,
   "metadata": {},
   "outputs": [],
   "source": [
    "#general syntax of a for loop:"
   ]
  },
  {
   "cell_type": "code",
   "execution_count": 20,
   "metadata": {},
   "outputs": [],
   "source": [
    "# for tempvar in mainvar:\n",
    "  #print(tempvar)"
   ]
  },
  {
   "cell_type": "code",
   "execution_count": null,
   "metadata": {},
   "outputs": [],
   "source": [
    "for student in students:\n",
    "in students(mainvar): "
   ]
  },
  {
   "cell_type": "code",
   "execution_count": 25,
   "metadata": {},
   "outputs": [
    {
     "name": "stdout",
     "output_type": "stream",
     "text": [
      "['ashok', 'deeksha', 'naveen', 'himraja', 'kiran', 'saif', 'shravya']\n"
     ]
    }
   ],
   "source": [
    "  print(students)"
   ]
  },
  {
   "cell_type": "code",
   "execution_count": 32,
   "metadata": {},
   "outputs": [
    {
     "name": "stdout",
     "output_type": "stream",
     "text": [
      "apple\n",
      "mango\n",
      "banana\n",
      "kiwi\n",
      "grape\n"
     ]
    }
   ],
   "source": [
    "fruits = ['apple','mango','banana','kiwi','grape']\n",
    "for fruits in fruits:\n",
    "       print(fruits)"
   ]
  },
  {
   "cell_type": "code",
   "execution_count": 37,
   "metadata": {},
   "outputs": [],
   "source": [
    "#for mango in mangoes:"
   ]
  },
  {
   "cell_type": "code",
   "execution_count": 38,
   "metadata": {},
   "outputs": [],
   "source": [
    "# enhancement of code indentation"
   ]
  },
  {
   "cell_type": "code",
   "execution_count": 39,
   "metadata": {},
   "outputs": [
    {
     "name": "stdout",
     "output_type": "stream",
     "text": [
      "ashok\n",
      "deeksha\n",
      "naveen\n",
      "himraja\n",
      "kiran\n",
      "saif\n",
      "shravya\n"
     ]
    }
   ],
   "source": [
    "for x in students:\n",
    "    print(x)"
   ]
  },
  {
   "cell_type": "code",
   "execution_count": 41,
   "metadata": {},
   "outputs": [
    {
     "name": "stdout",
     "output_type": "stream",
     "text": [
      " keep up the good work ,ashok\n",
      " keep up the good work ,deeksha\n",
      " keep up the good work ,naveen\n",
      " keep up the good work ,himraja\n",
      " keep up the good work ,kiran\n",
      " keep up the good work ,saif\n",
      " keep up the good work ,shravya\n"
     ]
    }
   ],
   "source": [
    "for x in students:\n",
    "    print(f\" keep up the good work ,{x}\")"
   ]
  },
  {
   "cell_type": "code",
   "execution_count": 42,
   "metadata": {},
   "outputs": [
    {
     "name": "stdout",
     "output_type": "stream",
     "text": [
      " looking forward to received all your files today ,ashok.\n",
      "\n",
      " looking forward to received all your files today ,deeksha.\n",
      "\n",
      " looking forward to received all your files today ,naveen.\n",
      "\n",
      " looking forward to received all your files today ,himraja.\n",
      "\n",
      " looking forward to received all your files today ,kiran.\n",
      "\n",
      " looking forward to received all your files today ,saif.\n",
      "\n",
      " looking forward to received all your files today ,shravya.\n",
      "\n"
     ]
    }
   ],
   "source": [
    "for x in students:\n",
    "    print(f\" looking forward to received all your files today ,{x}.\\n\")"
   ]
  },
  {
   "cell_type": "code",
   "execution_count": 46,
   "metadata": {},
   "outputs": [
    {
     "name": "stdout",
     "output_type": "stream",
     "text": [
      " keep up the good work,ashok\n",
      " looking for forward to received all your files today, ashok.\n",
      "\n",
      " keep up the good work,deeksha\n",
      " looking for forward to received all your files today, deeksha.\n",
      "\n",
      " keep up the good work,naveen\n",
      " looking for forward to received all your files today, naveen.\n",
      "\n",
      " keep up the good work,himraja\n",
      " looking for forward to received all your files today, himraja.\n",
      "\n",
      " keep up the good work,kiran\n",
      " looking for forward to received all your files today, kiran.\n",
      "\n",
      " keep up the good work,saif\n",
      " looking for forward to received all your files today, saif.\n",
      "\n",
      " keep up the good work,shravya\n",
      " looking for forward to received all your files today, shravya.\n",
      "\n",
      "thank you all of you for showing the interest in learning the python\n"
     ]
    }
   ],
   "source": [
    "for x in students:\n",
    "    print (f\" keep up the good work,{x}\")\n",
    "    print (f\" looking for forward to received all your files today, {x}.\\n\")\n",
    "print ( 'thank you all of you for showing the interest in learning the python')"
   ]
  },
  {
   "cell_type": "code",
   "execution_count": 48,
   "metadata": {},
   "outputs": [],
   "source": [
    "#making a numerical list : 1-50\n",
    "# defining any rang , last is always excluded for value in range(1,51)\n",
    "     "
   ]
  },
  {
   "cell_type": "code",
   "execution_count": 49,
   "metadata": {},
   "outputs": [
    {
     "name": "stdout",
     "output_type": "stream",
     "text": [
      "1\n",
      "2\n",
      "3\n",
      "4\n",
      "5\n",
      "6\n",
      "7\n",
      "8\n",
      "9\n",
      "10\n",
      "11\n",
      "12\n",
      "13\n",
      "14\n",
      "15\n",
      "16\n",
      "17\n",
      "18\n",
      "19\n",
      "20\n",
      "21\n",
      "22\n",
      "23\n",
      "24\n",
      "25\n",
      "26\n",
      "27\n",
      "28\n",
      "29\n",
      "30\n",
      "31\n",
      "32\n",
      "33\n",
      "34\n",
      "35\n",
      "36\n",
      "37\n",
      "38\n",
      "39\n",
      "40\n",
      "41\n",
      "42\n",
      "43\n",
      "44\n",
      "45\n",
      "46\n",
      "47\n",
      "48\n",
      "49\n",
      "50\n"
     ]
    }
   ],
   "source": [
    "for value in range (1,51):\n",
    "    print(value)"
   ]
  },
  {
   "cell_type": "code",
   "execution_count": 54,
   "metadata": {},
   "outputs": [
    {
     "name": "stdout",
     "output_type": "stream",
     "text": [
      "[1, 2, 3, 4, 5, 6, 7, 8, 9, 10, 11, 12, 13, 14, 15, 16, 17, 18, 19, 20]\n"
     ]
    }
   ],
   "source": [
    "numbers = list(range(1,21))\n",
    "print(numbers)\n"
   ]
  },
  {
   "cell_type": "code",
   "execution_count": null,
   "metadata": {},
   "outputs": [],
   "source": [
    "#Many Thanks"
   ]
  }
 ],
 "metadata": {
  "kernelspec": {
   "display_name": "Python 3",
   "language": "python",
   "name": "python3"
  },
  "language_info": {
   "codemirror_mode": {
    "name": "ipython",
    "version": 3
   },
   "file_extension": ".py",
   "mimetype": "text/x-python",
   "name": "python",
   "nbconvert_exporter": "python",
   "pygments_lexer": "ipython3",
   "version": "3.7.6"
  }
 },
 "nbformat": 4,
 "nbformat_minor": 4
}
