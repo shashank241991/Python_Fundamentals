{
 "cells": [
  {
   "cell_type": "code",
   "execution_count": 1,
   "metadata": {},
   "outputs": [],
   "source": [
    "# Introduction to types of arguments in a function"
   ]
  },
  {
   "cell_type": "code",
   "execution_count": 4,
   "metadata": {},
   "outputs": [
    {
     "name": "stdout",
     "output_type": "stream",
     "text": [
      "I have a dog\n",
      "\n",
      "My dog's name is Bruno\n"
     ]
    }
   ],
   "source": [
    "def describe_pet(animal_type,pet_name):\n",
    "#\"\"\" Describe about the pet information\"\"\"\n",
    "         print(f\"I have a {animal_type}\")\n",
    "         print(f\"\\nMy {animal_type}'s name is {pet_name}\")\n",
    "describe_pet('dog','Bruno')      \n",
    "    "
   ]
  },
  {
   "cell_type": "code",
   "execution_count": 2,
   "metadata": {},
   "outputs": [
    {
     "name": "stdout",
     "output_type": "stream",
     "text": [
      "I have a dog\n",
      "\n",
      "My dog's name is Max\n"
     ]
    }
   ],
   "source": [
    "def describe_pet(animal_type,pet_name):\n",
    "#\"\"\" Describe about the pet information\"\"\"\n",
    "         print(f\"I have a {animal_type}\")\n",
    "         print(f\"\\nMy {animal_type}'s name is {pet_name}\")\n",
    "describe_pet('dog','Max')  "
   ]
  },
  {
   "cell_type": "code",
   "execution_count": 27,
   "metadata": {},
   "outputs": [
    {
     "name": "stdout",
     "output_type": "stream",
     "text": [
      "I have a cat\n",
      "\n",
      "My cat's name is snowbell\n"
     ]
    }
   ],
   "source": [
    "describe_pet('cat','snowbell')"
   ]
  },
  {
   "cell_type": "code",
   "execution_count": 28,
   "metadata": {},
   "outputs": [
    {
     "name": "stdout",
     "output_type": "stream",
     "text": [
      "I have a rex\n",
      "\n",
      "My rex's name is dog\n"
     ]
    }
   ],
   "source": [
    "describe_pet('rex','dog')# positions have been changed."
   ]
  },
  {
   "cell_type": "code",
   "execution_count": 29,
   "metadata": {},
   "outputs": [],
   "source": [
    "#1.Positional Arguments:\n",
    "#Key Argument"
   ]
  },
  {
   "cell_type": "code",
   "execution_count": 36,
   "metadata": {},
   "outputs": [
    {
     "name": "stdout",
     "output_type": "stream",
     "text": [
      "I have a dog\n",
      "\n",
      "My dog's name is rex\n"
     ]
    }
   ],
   "source": [
    "describe_pet(pet_name='rex',animal_type ='dog')# where 'pet_name' and 'animal_type' are keywords and these are hardcoded."
   ]
  },
  {
   "cell_type": "code",
   "execution_count": 37,
   "metadata": {},
   "outputs": [
    {
     "name": "stdout",
     "output_type": "stream",
     "text": [
      "I have a parrot\n",
      "\n",
      "My parrot's name is x\n"
     ]
    }
   ],
   "source": [
    "describe_pet('parrot','x')\n"
   ]
  },
  {
   "cell_type": "code",
   "execution_count": 38,
   "metadata": {},
   "outputs": [
    {
     "ename": "TypeError",
     "evalue": "describe_pet() missing 1 required positional argument: 'pet_name'",
     "output_type": "error",
     "traceback": [
      "\u001b[1;31m---------------------------------------------------------------------------\u001b[0m",
      "\u001b[1;31mTypeError\u001b[0m                                 Traceback (most recent call last)",
      "\u001b[1;32m<ipython-input-38-fc5fde61d47c>\u001b[0m in \u001b[0;36m<module>\u001b[1;34m\u001b[0m\n\u001b[1;32m----> 1\u001b[1;33m \u001b[0mdescribe_pet\u001b[0m\u001b[1;33m(\u001b[0m\u001b[1;34m'y'\u001b[0m\u001b[1;33m)\u001b[0m\u001b[1;33m\u001b[0m\u001b[1;33m\u001b[0m\u001b[0m\n\u001b[0m",
      "\u001b[1;31mTypeError\u001b[0m: describe_pet() missing 1 required positional argument: 'pet_name'"
     ]
    }
   ],
   "source": [
    "describe_pet('y')# it doesn't take only 1 argument, we need to put 2 arguments at the same time otherwise it gives error."
   ]
  },
  {
   "cell_type": "code",
   "execution_count": 6,
   "metadata": {},
   "outputs": [
    {
     "ename": "SyntaxError",
     "evalue": "non-default argument follows default argument (<ipython-input-6-af09a58b169a>, line 3)",
     "output_type": "error",
     "traceback": [
      "\u001b[1;36m  File \u001b[1;32m\"<ipython-input-6-af09a58b169a>\"\u001b[1;36m, line \u001b[1;32m3\u001b[0m\n\u001b[1;33m    def describe_pet(animal_type='dog',pet_name):\u001b[0m\n\u001b[1;37m                    ^\u001b[0m\n\u001b[1;31mSyntaxError\u001b[0m\u001b[1;31m:\u001b[0m non-default argument follows default argument\n"
     ]
    }
   ],
   "source": [
    "# Non-Default Argument follows default argument Error.\n",
    "\n",
    "def describe_pet(animal_type='dog',pet_name):\n",
    "    print(f\"I have a {animal_type}\")\n",
    "    print(f\"My {animal_type}'s name is {pet_name}\")\n",
    "describe_pet('dog','Max') \n",
    "\n",
    "# Note: Default argument should always be defined at the end of the function otherwise it gives error."
   ]
  },
  {
   "cell_type": "code",
   "execution_count": 7,
   "metadata": {},
   "outputs": [
    {
     "name": "stdout",
     "output_type": "stream",
     "text": [
      "I have a dog\n",
      "My dog's name is max\n"
     ]
    }
   ],
   "source": [
    "# Correct way to defining the Argument\n",
    "\n",
    "def describe_pet(pet_name, animal_type='dog'):\n",
    "    print(f\"I have a {animal_type}\")\n",
    "    print(f\"My {animal_type}'s name is {pet_name}\")\n",
    "describe_pet('max')"
   ]
  },
  {
   "cell_type": "code",
   "execution_count": 40,
   "metadata": {},
   "outputs": [],
   "source": [
    "#3.Default argument\n",
    "#Note Default argument should alwayss be defined at the end of the function"
   ]
  },
  {
   "cell_type": "code",
   "execution_count": 54,
   "metadata": {},
   "outputs": [
    {
     "name": "stdout",
     "output_type": "stream",
     "text": [
      " I have dog\n",
      "\n",
      "My dog's name is scooby\n"
     ]
    }
   ],
   "source": [
    "def describe_pet(pet_name, animal_type ='dog'):\n",
    "#\"\"\"Describe about the pet information\"\"\"\n",
    "    print(f\" I have {animal_type}\")\n",
    "    print(f\"\\nMy {animal_type}'s name is {pet_name}\")\n",
    "describe_pet('scooby')"
   ]
  },
  {
   "cell_type": "code",
   "execution_count": 55,
   "metadata": {},
   "outputs": [],
   "source": [
    "#Req: name a cat , name is x"
   ]
  },
  {
   "cell_type": "code",
   "execution_count": 56,
   "metadata": {},
   "outputs": [
    {
     "name": "stdout",
     "output_type": "stream",
     "text": [
      " I have cat\n",
      "\n",
      "My cat's name is x\n"
     ]
    }
   ],
   "source": [
    "describe_pet('x','cat')"
   ]
  },
  {
   "cell_type": "code",
   "execution_count": null,
   "metadata": {},
   "outputs": [],
   "source": []
  }
 ],
 "metadata": {
  "kernelspec": {
   "display_name": "Python 3",
   "language": "python",
   "name": "python3"
  },
  "language_info": {
   "codemirror_mode": {
    "name": "ipython",
    "version": 3
   },
   "file_extension": ".py",
   "mimetype": "text/x-python",
   "name": "python",
   "nbconvert_exporter": "python",
   "pygments_lexer": "ipython3",
   "version": "3.7.6"
  }
 },
 "nbformat": 4,
 "nbformat_minor": 4
}
